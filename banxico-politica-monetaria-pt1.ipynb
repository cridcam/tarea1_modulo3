{
 "cells": [
  {
   "cell_type": "markdown",
   "metadata": {},
   "source": [
    "# Comunicados de Política Monetaria\n",
    "## Parte 1.\n",
    "\n",
    "En este notebook crearemos un pandas DataFrame con las decisiones de política monetaria de Banxico y haremos un análisis de la información recabada."
   ]
  },
  {
   "cell_type": "code",
   "execution_count": 1,
   "metadata": {},
   "outputs": [
    {
     "name": "stderr",
     "output_type": "stream",
     "text": [
      "[nltk_data] Downloading package stopwords to\n",
      "[nltk_data]     /Users/danielmartinezdelarosa/nltk_data...\n",
      "[nltk_data]   Unzipping corpora/stopwords.zip.\n"
     ]
    }
   ],
   "source": [
    "import re\n",
    "import os\n",
    "from os import listdir\n",
    "from io import BytesIO\n",
    "import pandas as pd\n",
    "import matplotlib.pyplot as plt\n",
    "from requests_html import HTMLSession\n",
    "from collections import defaultdict\n",
    "from unidecode import unidecode\n",
    "from datetime import datetime\n",
    "from tqdm.notebook import tqdm\n",
    "import numpy as np\n",
    "import requests\n",
    "from nltk import corpus\n",
    "import nltk\n",
    "nltk.download(\"stopwords\")\n",
    "from sklearn.model_selection import train_test_split"
   ]
  },
  {
   "cell_type": "code",
   "execution_count": 2,
   "metadata": {},
   "outputs": [],
   "source": [
    "%config InlineBackend.figure_format = \"retina\"\n",
    "plt.rcParams[\"figure.figsize\"] = (12, 4)"
   ]
  },
  {
   "cell_type": "markdown",
   "metadata": {},
   "source": [
    "La información de decisción de política monetaria se encuentra en la siguiente url."
   ]
  },
  {
   "cell_type": "code",
   "execution_count": 3,
   "metadata": {},
   "outputs": [],
   "source": [
    "url = (\"https://www.banxico.org.mx/publicaciones-y-prensa/\"\n",
    "      \"anuncios-de-las-decisiones-de-politica-monetaria/\"\n",
    "      \"anuncios-politica-monetaria-t.html\")"
   ]
  },
  {
   "cell_type": "markdown",
   "metadata": {},
   "source": [
    "* Entra a `url` y analiza la página."
   ]
  },
  {
   "cell_type": "code",
   "execution_count": 4,
   "metadata": {},
   "outputs": [
    {
     "name": "stdout",
     "output_type": "stream",
     "text": [
      "https://www.banxico.org.mx/publicaciones-y-prensa/anuncios-de-las-decisiones-de-politica-monetaria/anuncios-politica-monetaria-t.html\n"
     ]
    }
   ],
   "source": [
    "print(url)"
   ]
  },
  {
   "cell_type": "markdown",
   "metadata": {},
   "source": [
    "* Como podemos observar, la url objetivo contiene\n",
    "    * las fechas de decisiones de política monetaria,\n",
    "    * el resumen de las decisiones de política monetaria y\n",
    "    * una url que nos dirige a un pdf con el texto completo del Anuncio de Política Monetaria.\n",
    "    \n",
    "<h3 style=\"color:crimson\">Ejercicio</h3>\n",
    "\n",
    "1. Por medio de `requests_html`, extrae los tres puntos antes mencionados y guárdalos dentro de un DataFrame con columnas `\"date\"`, `\"text\"` y `\"url\"`;\n",
    "2. Con el dataframe seleccionado, filtra todos comunicados anteriores al 15 de febrero de 2008, i.e., queremos todos los comunicados a partir del 15 de Febrero de 2008;\n",
    "3. Guarda tu DataFrame dentro de un archivo `.pkl` con nombre `comunicados-banxico.pkl`: **hint:** Revisa el uso del método `to_pickle`."
   ]
  },
  {
   "cell_type": "code",
   "execution_count": 5,
   "metadata": {},
   "outputs": [
    {
     "data": {
      "text/plain": [
       "<Response [200]>"
      ]
     },
     "execution_count": 5,
     "metadata": {},
     "output_type": "execute_result"
    }
   ],
   "source": [
    "with HTMLSession() as sess:\n",
    "    r = sess.get(url)\n",
    "r"
   ]
  },
  {
   "cell_type": "code",
   "execution_count": 6,
   "metadata": {},
   "outputs": [
    {
     "data": {
      "text/plain": [
       "184"
      ]
     },
     "execution_count": 6,
     "metadata": {},
     "output_type": "execute_result"
    }
   ],
   "source": [
    "len(r.html.find(\"tr\"))"
   ]
  },
  {
   "cell_type": "code",
   "execution_count": 7,
   "metadata": {},
   "outputs": [],
   "source": [
    "tr = r.html.find(\"table[class='table table-striped bmtableview']\", first=True)"
   ]
  },
  {
   "cell_type": "code",
   "execution_count": 8,
   "metadata": {},
   "outputs": [],
   "source": [
    "all_tr = tr.find(\"tr\")"
   ]
  },
  {
   "cell_type": "code",
   "execution_count": 9,
   "metadata": {},
   "outputs": [
    {
     "data": {
      "text/plain": [
       "'13/02/20\\nEl objetivo para la Tasa de Inter�s Interbancaria a 1 d�a (tasa objetivo) disminuye en 25 puntos base\\nTexto completo'"
      ]
     },
     "execution_count": 9,
     "metadata": {},
     "output_type": "execute_result"
    }
   ],
   "source": [
    "all_tr[0].text"
   ]
  },
  {
   "cell_type": "code",
   "execution_count": 10,
   "metadata": {},
   "outputs": [
    {
     "data": {
      "text/plain": [
       "184"
      ]
     },
     "execution_count": 10,
     "metadata": {},
     "output_type": "execute_result"
    }
   ],
   "source": [
    "len(all_tr)"
   ]
  },
  {
   "cell_type": "code",
   "execution_count": 11,
   "metadata": {},
   "outputs": [
    {
     "data": {
      "text/plain": [
       "'es_ES.UTF-8'"
      ]
     },
     "execution_count": 11,
     "metadata": {},
     "output_type": "execute_result"
    }
   ],
   "source": [
    "import locale\n",
    "locale.setlocale(locale.LC_TIME, \"es_ES.UTF-8\")"
   ]
  },
  {
   "cell_type": "code",
   "execution_count": 12,
   "metadata": {},
   "outputs": [],
   "source": [
    "def extract_info(tr):\n",
    "    class_date = \"td[class='bmdateview']\"\n",
    "    class_text = \"td[class='bmtextview']\"\n",
    "    \n",
    "    url_tr, *_ = tr.find(class_text, first=True).absolute_links\n",
    "    texto = tr.find(class_text, first=True).text\n",
    "    date_str = tr.find(class_date, first=True).text\n",
    "    date = datetime.strptime(date_str, \"%d/%m/%y\")\n",
    "    \n",
    "    return {\n",
    "        \"date\": date,\n",
    "        \"text\": texto,\n",
    "        \"url\": url_tr\n",
    "    }"
   ]
  },
  {
   "cell_type": "code",
   "execution_count": 13,
   "metadata": {},
   "outputs": [
    {
     "data": {
      "text/plain": [
       "3"
      ]
     },
     "execution_count": 13,
     "metadata": {},
     "output_type": "execute_result"
    }
   ],
   "source": [
    "len(extract_info(tr))"
   ]
  },
  {
   "cell_type": "code",
   "execution_count": 14,
   "metadata": {
    "scrolled": true
   },
   "outputs": [
    {
     "data": {
      "text/html": [
       "<div>\n",
       "<style scoped>\n",
       "    .dataframe tbody tr th:only-of-type {\n",
       "        vertical-align: middle;\n",
       "    }\n",
       "\n",
       "    .dataframe tbody tr th {\n",
       "        vertical-align: top;\n",
       "    }\n",
       "\n",
       "    .dataframe thead th {\n",
       "        text-align: right;\n",
       "    }\n",
       "</style>\n",
       "<table border=\"1\" class=\"dataframe\">\n",
       "  <thead>\n",
       "    <tr style=\"text-align: right;\">\n",
       "      <th></th>\n",
       "      <th>text</th>\n",
       "      <th>url</th>\n",
       "    </tr>\n",
       "    <tr>\n",
       "      <th>date</th>\n",
       "      <th></th>\n",
       "      <th></th>\n",
       "    </tr>\n",
       "  </thead>\n",
       "  <tbody>\n",
       "    <tr>\n",
       "      <th>2008-02-15</th>\n",
       "      <td>El objetivo para la Tasa de Inter�s Interbanca...</td>\n",
       "      <td>https://www.banxico.org.mx/publicaciones-y-pre...</td>\n",
       "    </tr>\n",
       "    <tr>\n",
       "      <th>2008-03-14</th>\n",
       "      <td>El objetivo para la Tasa de Inter�s Interbanca...</td>\n",
       "      <td>https://www.banxico.org.mx/publicaciones-y-pre...</td>\n",
       "    </tr>\n",
       "    <tr>\n",
       "      <th>2008-04-18</th>\n",
       "      <td>El objetivo para la Tasa de Inter�s Interbanca...</td>\n",
       "      <td>https://www.banxico.org.mx/publicaciones-y-pre...</td>\n",
       "    </tr>\n",
       "    <tr>\n",
       "      <th>2008-05-16</th>\n",
       "      <td>El objetivo para la Tasa de Inter�s Interbanca...</td>\n",
       "      <td>https://www.banxico.org.mx/publicaciones-y-pre...</td>\n",
       "    </tr>\n",
       "    <tr>\n",
       "      <th>2008-06-20</th>\n",
       "      <td>El objetivo para la Tasa de Inter�s Interbanca...</td>\n",
       "      <td>https://www.banxico.org.mx/publicaciones-y-pre...</td>\n",
       "    </tr>\n",
       "  </tbody>\n",
       "</table>\n",
       "</div>"
      ],
      "text/plain": [
       "                                                         text  \\\n",
       "date                                                            \n",
       "2008-02-15  El objetivo para la Tasa de Inter�s Interbanca...   \n",
       "2008-03-14  El objetivo para la Tasa de Inter�s Interbanca...   \n",
       "2008-04-18  El objetivo para la Tasa de Inter�s Interbanca...   \n",
       "2008-05-16  El objetivo para la Tasa de Inter�s Interbanca...   \n",
       "2008-06-20  El objetivo para la Tasa de Inter�s Interbanca...   \n",
       "\n",
       "                                                          url  \n",
       "date                                                           \n",
       "2008-02-15  https://www.banxico.org.mx/publicaciones-y-pre...  \n",
       "2008-03-14  https://www.banxico.org.mx/publicaciones-y-pre...  \n",
       "2008-04-18  https://www.banxico.org.mx/publicaciones-y-pre...  \n",
       "2008-05-16  https://www.banxico.org.mx/publicaciones-y-pre...  \n",
       "2008-06-20  https://www.banxico.org.mx/publicaciones-y-pre...  "
      ]
     },
     "execution_count": 14,
     "metadata": {},
     "output_type": "execute_result"
    }
   ],
   "source": [
    "content = [extract_info(tr) for tr in all_tr]\n",
    "content = pd.DataFrame(content)\n",
    "content = content.set_index('date')\n",
    "content1 = content[:\"2008-02-15\"]\n",
    "content1.sort_index(ascending=True).head()"
   ]
  },
  {
   "cell_type": "markdown",
   "metadata": {},
   "source": [
    "<h3 style=\"color:crimson\">Ejercicio</h3>\n",
    "\n",
    "Por medio del método `str.extract` para un pandas Series, crea una nueva columna `\"category\"` que extraiga del texto si la tasa se \n",
    "1. `\"mantiene\"`\n",
    "2. `\"incrementa\"`\n",
    "3. `\"disminuye\"`"
   ]
  },
  {
   "cell_type": "code",
   "execution_count": 15,
   "metadata": {},
   "outputs": [
    {
     "name": "stderr",
     "output_type": "stream",
     "text": [
      "/opt/anaconda3/lib/python3.7/site-packages/ipykernel_launcher.py:1: SettingWithCopyWarning: \n",
      "A value is trying to be set on a copy of a slice from a DataFrame.\n",
      "Try using .loc[row_indexer,col_indexer] = value instead\n",
      "\n",
      "See the caveats in the documentation: https://pandas.pydata.org/pandas-docs/stable/user_guide/indexing.html#returning-a-view-versus-a-copy\n",
      "  \"\"\"Entry point for launching an IPython kernel.\n"
     ]
    }
   ],
   "source": [
    "content1['category'] = content1.text.str.extract('(mantiene|incrementa|disminuye)')"
   ]
  },
  {
   "cell_type": "code",
   "execution_count": 16,
   "metadata": {},
   "outputs": [
    {
     "data": {
      "text/html": [
       "<div>\n",
       "<style scoped>\n",
       "    .dataframe tbody tr th:only-of-type {\n",
       "        vertical-align: middle;\n",
       "    }\n",
       "\n",
       "    .dataframe tbody tr th {\n",
       "        vertical-align: top;\n",
       "    }\n",
       "\n",
       "    .dataframe thead th {\n",
       "        text-align: right;\n",
       "    }\n",
       "</style>\n",
       "<table border=\"1\" class=\"dataframe\">\n",
       "  <thead>\n",
       "    <tr style=\"text-align: right;\">\n",
       "      <th></th>\n",
       "      <th>text</th>\n",
       "      <th>url</th>\n",
       "      <th>category</th>\n",
       "    </tr>\n",
       "    <tr>\n",
       "      <th>date</th>\n",
       "      <th></th>\n",
       "      <th></th>\n",
       "      <th></th>\n",
       "    </tr>\n",
       "  </thead>\n",
       "  <tbody>\n",
       "    <tr>\n",
       "      <th>2008-02-15</th>\n",
       "      <td>El objetivo para la Tasa de Inter�s Interbanca...</td>\n",
       "      <td>https://www.banxico.org.mx/publicaciones-y-pre...</td>\n",
       "      <td>mantiene</td>\n",
       "    </tr>\n",
       "    <tr>\n",
       "      <th>2008-03-14</th>\n",
       "      <td>El objetivo para la Tasa de Inter�s Interbanca...</td>\n",
       "      <td>https://www.banxico.org.mx/publicaciones-y-pre...</td>\n",
       "      <td>mantiene</td>\n",
       "    </tr>\n",
       "    <tr>\n",
       "      <th>2008-04-18</th>\n",
       "      <td>El objetivo para la Tasa de Inter�s Interbanca...</td>\n",
       "      <td>https://www.banxico.org.mx/publicaciones-y-pre...</td>\n",
       "      <td>mantiene</td>\n",
       "    </tr>\n",
       "    <tr>\n",
       "      <th>2008-05-16</th>\n",
       "      <td>El objetivo para la Tasa de Inter�s Interbanca...</td>\n",
       "      <td>https://www.banxico.org.mx/publicaciones-y-pre...</td>\n",
       "      <td>mantiene</td>\n",
       "    </tr>\n",
       "    <tr>\n",
       "      <th>2008-06-20</th>\n",
       "      <td>El objetivo para la Tasa de Inter�s Interbanca...</td>\n",
       "      <td>https://www.banxico.org.mx/publicaciones-y-pre...</td>\n",
       "      <td>incrementa</td>\n",
       "    </tr>\n",
       "  </tbody>\n",
       "</table>\n",
       "</div>"
      ],
      "text/plain": [
       "                                                         text  \\\n",
       "date                                                            \n",
       "2008-02-15  El objetivo para la Tasa de Inter�s Interbanca...   \n",
       "2008-03-14  El objetivo para la Tasa de Inter�s Interbanca...   \n",
       "2008-04-18  El objetivo para la Tasa de Inter�s Interbanca...   \n",
       "2008-05-16  El objetivo para la Tasa de Inter�s Interbanca...   \n",
       "2008-06-20  El objetivo para la Tasa de Inter�s Interbanca...   \n",
       "\n",
       "                                                          url    category  \n",
       "date                                                                       \n",
       "2008-02-15  https://www.banxico.org.mx/publicaciones-y-pre...    mantiene  \n",
       "2008-03-14  https://www.banxico.org.mx/publicaciones-y-pre...    mantiene  \n",
       "2008-04-18  https://www.banxico.org.mx/publicaciones-y-pre...    mantiene  \n",
       "2008-05-16  https://www.banxico.org.mx/publicaciones-y-pre...    mantiene  \n",
       "2008-06-20  https://www.banxico.org.mx/publicaciones-y-pre...  incrementa  "
      ]
     },
     "execution_count": 16,
     "metadata": {},
     "output_type": "execute_result"
    }
   ],
   "source": [
    "content1.sort_index(ascending=True).head()"
   ]
  },
  {
   "cell_type": "code",
   "execution_count": null,
   "metadata": {
    "scrolled": true
   },
   "outputs": [],
   "source": []
  },
  {
   "cell_type": "markdown",
   "metadata": {},
   "source": [
    "<h3 style=\"color:crimson\">Ejercicio</h3>\n",
    "\n",
    "Cuenta las veces en las que la tasa se mantuvo, se incrementó o se disminuyó."
   ]
  },
  {
   "cell_type": "code",
   "execution_count": 17,
   "metadata": {},
   "outputs": [
    {
     "data": {
      "text/plain": [
       "mantiene      72\n",
       "incrementa    18\n",
       "disminuye     16\n",
       "dtype: int64"
      ]
     },
     "execution_count": 17,
     "metadata": {},
     "output_type": "execute_result"
    }
   ],
   "source": [
    "frecuencias = (pd.Series(content1['category'].values.ravel()).value_counts())\n",
    "frecuencias"
   ]
  },
  {
   "cell_type": "code",
   "execution_count": null,
   "metadata": {
    "scrolled": false
   },
   "outputs": [],
   "source": []
  },
  {
   "cell_type": "markdown",
   "metadata": {},
   "source": [
    "<h3 style=\"color:crimson\">Ejercicio</h3>\n",
    "\n",
    "Reproduce la siguiente figura sobre los comunicados de prensa de Banxico:\n",
    "1. La gráfica de la izquierda representa una serie de tiempo sobre los comunicados de banxico. Si `y=1`, la tasa de referencia se incrementó; si `y=0`, la tasa se mantuvo; finalmente, si `y=-1`, la tasa disminuyó.\n",
    "2. La gráfica de la derecha es una gráfica de barras del ejercicio anterior"
   ]
  },
  {
   "cell_type": "code",
   "execution_count": 18,
   "metadata": {},
   "outputs": [
    {
     "data": {
      "text/html": [
       "<div>\n",
       "<style scoped>\n",
       "    .dataframe tbody tr th:only-of-type {\n",
       "        vertical-align: middle;\n",
       "    }\n",
       "\n",
       "    .dataframe tbody tr th {\n",
       "        vertical-align: top;\n",
       "    }\n",
       "\n",
       "    .dataframe thead th {\n",
       "        text-align: right;\n",
       "    }\n",
       "</style>\n",
       "<table border=\"1\" class=\"dataframe\">\n",
       "  <thead>\n",
       "    <tr style=\"text-align: right;\">\n",
       "      <th></th>\n",
       "      <th>category</th>\n",
       "    </tr>\n",
       "    <tr>\n",
       "      <th>date</th>\n",
       "      <th></th>\n",
       "    </tr>\n",
       "  </thead>\n",
       "  <tbody>\n",
       "    <tr>\n",
       "      <th>2020-02-13</th>\n",
       "      <td>-1</td>\n",
       "    </tr>\n",
       "    <tr>\n",
       "      <th>2019-12-19</th>\n",
       "      <td>-1</td>\n",
       "    </tr>\n",
       "    <tr>\n",
       "      <th>2019-11-14</th>\n",
       "      <td>-1</td>\n",
       "    </tr>\n",
       "    <tr>\n",
       "      <th>2019-09-26</th>\n",
       "      <td>-1</td>\n",
       "    </tr>\n",
       "    <tr>\n",
       "      <th>2019-08-15</th>\n",
       "      <td>-1</td>\n",
       "    </tr>\n",
       "    <tr>\n",
       "      <th>...</th>\n",
       "      <td>...</td>\n",
       "    </tr>\n",
       "    <tr>\n",
       "      <th>2008-06-20</th>\n",
       "      <td>1</td>\n",
       "    </tr>\n",
       "    <tr>\n",
       "      <th>2008-05-16</th>\n",
       "      <td>0</td>\n",
       "    </tr>\n",
       "    <tr>\n",
       "      <th>2008-04-18</th>\n",
       "      <td>0</td>\n",
       "    </tr>\n",
       "    <tr>\n",
       "      <th>2008-03-14</th>\n",
       "      <td>0</td>\n",
       "    </tr>\n",
       "    <tr>\n",
       "      <th>2008-02-15</th>\n",
       "      <td>0</td>\n",
       "    </tr>\n",
       "  </tbody>\n",
       "</table>\n",
       "<p>106 rows × 1 columns</p>\n",
       "</div>"
      ],
      "text/plain": [
       "           category\n",
       "date               \n",
       "2020-02-13       -1\n",
       "2019-12-19       -1\n",
       "2019-11-14       -1\n",
       "2019-09-26       -1\n",
       "2019-08-15       -1\n",
       "...             ...\n",
       "2008-06-20        1\n",
       "2008-05-16        0\n",
       "2008-04-18        0\n",
       "2008-03-14        0\n",
       "2008-02-15        0\n",
       "\n",
       "[106 rows x 1 columns]"
      ]
     },
     "execution_count": 18,
     "metadata": {},
     "output_type": "execute_result"
    }
   ],
   "source": [
    "feliz =pd.DataFrame(content1, columns = ['category'])\n",
    "for i in range(len(feliz['category'])):\n",
    "    if feliz['category'][i] == 'disminuye':\n",
    "        feliz['category'][i] = -1\n",
    "    if feliz['category'][i] == 'mantiene':\n",
    "        feliz['category'][i] = 0\n",
    "    elif feliz['category'][i] == 'incrementa':\n",
    "        feliz['category'][i] = 1\n",
    "feliz"
   ]
  },
  {
   "cell_type": "code",
   "execution_count": 19,
   "metadata": {},
   "outputs": [
    {
     "data": {
      "text/plain": [
       "Text(0.5, 1.0, 'Frecuencia de categorías')"
      ]
     },
     "execution_count": 19,
     "metadata": {},
     "output_type": "execute_result"
    },
    {
     "data": {
      "image/png": "[encoded data removed]",
      "text/plain": [
       "<Figure size 1080x360 with 2 Axes>"
      ]
     },
     "metadata": {
      "image/png": {
       "height": 366,
       "width": 884
      },
      "needs_background": "light"
     },
     "output_type": "display_data"
    }
   ],
   "source": [
    "fig, ax = plt.subplots(1,2, figsize=(15, 5))\n",
    "\n",
    "plt.subplot2grid((1,2),(0,0))\n",
    "plt.yticks([-1, 0, 1],[r'$\\downarrow$', r'$ - $', r'$\\uparrow$'], fontsize=30)\n",
    "plt.plot(feliz,linestyle = \"\", marker = '+')\n",
    "plt.xticks(rotation=45)\n",
    "plt.xlabel('date')\n",
    "plt.grid(True)\n",
    "\n",
    "plt.subplot2grid((1,2),(0,1))\n",
    "plt.xticks(rotation=90)\n",
    "plt.bar(['mantiene', 'incrementa', 'disminuye'], feliz[\"category\"].value_counts(), width=0.50)\n",
    "plt.title('Frecuencia de categorías')"
   ]
  },
  {
   "cell_type": "markdown",
   "metadata": {},
   "source": [
    "<h3 style=\"color:crimson\">Ejercicio</h3>\n",
    "\n",
    "Agrupa por año y cuenta el número de comunicados en un año para cada categoría."
   ]
  },
  {
   "cell_type": "code",
   "execution_count": 20,
   "metadata": {},
   "outputs": [
    {
     "name": "stderr",
     "output_type": "stream",
     "text": [
      "/opt/anaconda3/lib/python3.7/site-packages/ipykernel_launcher.py:2: SettingWithCopyWarning: \n",
      "A value is trying to be set on a copy of a slice from a DataFrame.\n",
      "Try using .loc[row_indexer,col_indexer] = value instead\n",
      "\n",
      "See the caveats in the documentation: https://pandas.pydata.org/pandas-docs/stable/user_guide/indexing.html#returning-a-view-versus-a-copy\n",
      "  \n"
     ]
    },
    {
     "data": {
      "text/plain": [
       "años  category  \n",
       "2008  incrementa     3\n",
       "      mantiene       7\n",
       "2009  disminuye      7\n",
       "      mantiene       4\n",
       "2010  mantiene      11\n",
       "Name: category, dtype: int64"
      ]
     },
     "execution_count": 20,
     "metadata": {},
     "output_type": "execute_result"
    }
   ],
   "source": [
    "feliz1 =pd.DataFrame(content1, columns = ['category'])\n",
    "content1['años']= pd.to_datetime(content1.index.values).strftime(\"%Y\")\n",
    "A = (content1.groupby(['años', 'category']).agg('category')).count()\n",
    "A.head(5)"
   ]
  },
  {
   "cell_type": "markdown",
   "metadata": {},
   "source": [
    "<h3 style=\"color:crimson\">Ejercicio</h3>\n",
    "\n",
    "Con el resultado anterior, replica la siguiente gráfica"
   ]
  },
  {
   "cell_type": "code",
   "execution_count": 21,
   "metadata": {},
   "outputs": [
    {
     "data": {
      "image/png": "[encoded data removed]",
      "text/plain": [
       "<Figure size 864x288 with 1 Axes>"
      ]
     },
     "metadata": {
      "image/png": {
       "height": 293,
       "width": 717
      },
      "needs_background": "light"
     },
     "output_type": "display_data"
    }
   ],
   "source": [
    "A.unstack().plot(kind = 'bar', stacked = True)\n",
    "plt.title('Fracuencias por categoría')\n",
    "plt.xlabel('Date')\n",
    "plt.ylabel('frecuencia')\n",
    "plt.grid(True)"
   ]
  },
  {
   "cell_type": "markdown",
   "metadata": {},
   "source": [
    "## Parte 2."
   ]
  },
  {
   "cell_type": "markdown",
   "metadata": {},
   "source": [
    "* Ocupando **únicamente** pandas, numpy; matplotlib; seaborn, con la información obtenida en la parte 1 (pandas DataFrame) modelar con Naïve Bayes si un documento dado pertence a la clase `mantiene`, `sube`, `baja`\n",
    "\n",
    "## Pasos\n",
    "1. Descargar PDFs\n",
    "2. Limpiar los datos\n",
    "3. Eliminar de todos los archivo las palabras que contengan `mantiene`, `sube`, `baja`.\n",
    "4. Parte los documentos entre un set de entrenamiento (0.8) y uno de prueba (0.2)\n",
    "5. Entrena el modelo con los documentos de entrenamiento y valida el resultado con una matriz de confusión usado la base de prueba"
   ]
  },
  {
   "cell_type": "code",
   "execution_count": 22,
   "metadata": {},
   "outputs": [],
   "source": [
    "if not os.path.exists(\"descargas\"):\n",
    "    os.mkdir(\"descargas\")"
   ]
  },
  {
   "cell_type": "code",
   "execution_count": 23,
   "metadata": {},
   "outputs": [],
   "source": [
    "def url_response(url):\n",
    "    path_full=os.path.join(\"descargas\", \"path\", \"url\")\n",
    "    path, url = url\n",
    "\n",
    "    r = requests.get(url, stream = True)\n",
    "    \n",
    "    with open(path, 'wb') as f:\n",
    "\n",
    "        for ch in r:\n",
    "\n",
    "            f.write(ch)"
   ]
  },
  {
   "cell_type": "code",
   "execution_count": 24,
   "metadata": {},
   "outputs": [],
   "source": [
    "urls = []\n",
    "for i in range(len(content1['url'])):\n",
    "    url = (content1.index[i].strftime(\"%d-%B-%Y\")+\".pdf\", content1['url'][i])\n",
    "    urls.append(url)"
   ]
  },
  {
   "cell_type": "code",
   "execution_count": 25,
   "metadata": {},
   "outputs": [
    {
     "name": "stdout",
     "output_type": "stream",
     "text": [
      "Time to download: 41.92661094665527\n"
     ]
    }
   ],
   "source": [
    "from time import time\n",
    "start = time()\n",
    "\n",
    "for x in urls:\n",
    "\n",
    "    url_response (x)\n",
    "\n",
    "print(f\"Time to download: {time() - start}\")"
   ]
  },
  {
   "cell_type": "code",
   "execution_count": 26,
   "metadata": {},
   "outputs": [
    {
     "name": "stdout",
     "output_type": "stream",
     "text": [
      "Requirement already satisfied: PyPDF2 in /opt/anaconda3/lib/python3.7/site-packages (1.26.0)\r\n"
     ]
    }
   ],
   "source": [
    "!pip install PyPDF2"
   ]
  },
  {
   "cell_type": "code",
   "execution_count": 28,
   "metadata": {},
   "outputs": [],
   "source": [
    "from PyPDF2 import PdfFileReader\n",
    "texto=defaultdict(list)\n",
    "for i in range(len(content1['category'])):\n",
    "    path = content1.index[i].strftime(\"%d-%B-%Y\")+\".pdf\"\n",
    "    with open(path, 'rb') as f:\n",
    "        pdf = PdfFileReader(f)\n",
    "        page = pdf.getPage(0)\n",
    "        text = page.extractText().lower()\n",
    "        texto[content1['category'][i]].append(text)\n",
    "        #print(text)\n",
    "    "
   ]
  },
  {
   "cell_type": "markdown",
   "metadata": {},
   "source": [
    "## Limpieza de datos"
   ]
  },
  {
   "cell_type": "code",
   "execution_count": 29,
   "metadata": {},
   "outputs": [],
   "source": [
    "k1, k2, k3 = 'mantiene', 'incrementa', 'disminuye'"
   ]
  },
  {
   "cell_type": "code",
   "execution_count": 94,
   "metadata": {},
   "outputs": [],
   "source": [
    "def limpia_texto(doc):\n",
    "    limpio = doc.lower()\n",
    "    limpio = re.sub(\"[^\\w ]\", \"\", limpio)\n",
    "    quita = re.sub(\"mantiene|incrementa|disminuye\", \"\", limpio)\n",
    "    return limpio"
   ]
  },
  {
   "cell_type": "code",
   "execution_count": 95,
   "metadata": {},
   "outputs": [],
   "source": [
    "D1 = [limpia_texto(doc) for doc in texto[k1]]\n",
    "D2 = [limpia_texto(doc) for doc in texto[k2]]\n",
    "D3 = [limpia_texto(doc) for doc in texto[k3]]\n",
    "\n",
    "D1, D1_test = train_test_split(D1, test_size=0.2)\n",
    "D2, D2_test = train_test_split(D2, test_size=0.2)\n",
    "D3, D3_test = train_test_split(D3, test_size=0.2)"
   ]
  },
  {
   "cell_type": "markdown",
   "metadata": {},
   "source": [
    "## Analizando los datos"
   ]
  },
  {
   "cell_type": "code",
   "execution_count": 96,
   "metadata": {},
   "outputs": [
    {
     "data": {
      "text/plain": [
       "83"
      ]
     },
     "execution_count": 96,
     "metadata": {},
     "output_type": "execute_result"
    }
   ],
   "source": [
    "N1 = len(D1)\n",
    "N2 = len(D2)\n",
    "N3 = len(D3)\n",
    "###con lo siguiente solo se desea ver el tamaño total para verificar\n",
    "n1 = len(D1_test)\n",
    "n2 = len(D2_test)\n",
    "n3 = len(D3_test)\n",
    "M= N1 + N2 + N3 + n1+ n2+ n3\n",
    "##### Valor de N\n",
    "N = N1 + N2 + N3\n",
    "N"
   ]
  },
  {
   "cell_type": "code",
   "execution_count": 97,
   "metadata": {},
   "outputs": [
    {
     "name": "stdout",
     "output_type": "stream",
     "text": [
      "Requirement already satisfied: stopwords in /opt/anaconda3/lib/python3.7/site-packages (0.1.3)\r\n"
     ]
    }
   ],
   "source": [
    "!pip install stopwords"
   ]
  },
  {
   "cell_type": "code",
   "execution_count": 98,
   "metadata": {},
   "outputs": [],
   "source": [
    "stopwords = corpus.stopwords.words(\"spanish\")\n",
    "stopwords = [unidecode(word) for word in stopwords]"
   ]
  },
  {
   "cell_type": "code",
   "execution_count": 99,
   "metadata": {},
   "outputs": [],
   "source": [
    "V1 = []\n",
    "for dialogo in D1:\n",
    "    for palabra in dialogo.split():\n",
    "        if palabra not in stopwords:\n",
    "            V1.append(palabra)"
   ]
  },
  {
   "cell_type": "code",
   "execution_count": 100,
   "metadata": {},
   "outputs": [],
   "source": [
    "V2 = []\n",
    "for dialogo in D2:\n",
    "    for palabra in dialogo.split():\n",
    "        if palabra not in stopwords:\n",
    "            V2.append(palabra)"
   ]
  },
  {
   "cell_type": "code",
   "execution_count": 101,
   "metadata": {},
   "outputs": [],
   "source": [
    "V3 = []\n",
    "for dialogo in D3:\n",
    "    for palabra in dialogo.split():\n",
    "        if palabra not in stopwords:\n",
    "            V3.append(palabra)"
   ]
  },
  {
   "cell_type": "code",
   "execution_count": 102,
   "metadata": {},
   "outputs": [
    {
     "name": "stdout",
     "output_type": "stream",
     "text": [
      "mantiene= 0.12665558167536264 incrementa= 0.2778836987607245 disminuye= 0.2763731473408893\n"
     ]
    }
   ],
   "source": [
    "mantiene = len(set(V1)) / len(V1)\n",
    "incrementa = len(set(V2)) / len(V2)\n",
    "disminuye = len(set(V3)) / len(V3)\n",
    "print('mantiene''=', mantiene, 'incrementa''=', incrementa, 'disminuye''=',disminuye)"
   ]
  },
  {
   "cell_type": "code",
   "execution_count": 103,
   "metadata": {
    "scrolled": true
   },
   "outputs": [
    {
     "data": {
      "text/plain": [
       "inflación        324\n",
       "crecimiento      188\n",
       "precios          171\n",
       "economía         169\n",
       "monetaria        164\n",
       "                ... \n",
       "repuntar           1\n",
       "exhibió            1\n",
       "recibidas          1\n",
       "ocasionar          1\n",
       "contrarrestan      1\n",
       "Length: 2209, dtype: int64"
      ]
     },
     "execution_count": 103,
     "metadata": {},
     "output_type": "execute_result"
    }
   ],
   "source": [
    "pd.Series(V1).value_counts()"
   ]
  },
  {
   "cell_type": "code",
   "execution_count": 104,
   "metadata": {},
   "outputs": [
    {
     "data": {
      "text/plain": [
       "monetaria        55\n",
       "política         50\n",
       "inflación        49\n",
       "economía         48\n",
       "méxico           43\n",
       "                 ..\n",
       "derivan           1\n",
       "buena             1\n",
       "sujeta            1\n",
       "precisamente      1\n",
       "mantenimiento     1\n",
       "Length: 1166, dtype: int64"
      ]
     },
     "execution_count": 104,
     "metadata": {},
     "output_type": "execute_result"
    }
   ],
   "source": [
    "pd.Series(V2).value_counts()"
   ]
  },
  {
   "cell_type": "code",
   "execution_count": 105,
   "metadata": {},
   "outputs": [
    {
     "data": {
      "text/plain": [
       "inflación     54\n",
       "económica     41\n",
       "actividad     39\n",
       "riesgos       39\n",
       "méxico        38\n",
       "              ..\n",
       "ordenadas      1\n",
       "demandas       1\n",
       "ancladas       1\n",
       "permiten       1\n",
       "principios     1\n",
       "Length: 951, dtype: int64"
      ]
     },
     "execution_count": 105,
     "metadata": {},
     "output_type": "execute_result"
    }
   ],
   "source": [
    "pd.Series(V3).value_counts()"
   ]
  },
  {
   "cell_type": "code",
   "execution_count": 106,
   "metadata": {},
   "outputs": [],
   "source": [
    "V = set(V1) | set(V2) | set(V3)\n",
    "vocab = pd.DataFrame(index=V)"
   ]
  },
  {
   "cell_type": "code",
   "execution_count": 107,
   "metadata": {},
   "outputs": [],
   "source": [
    "V1_c = pd.Series(V1, name=\"k1\").value_counts()\n",
    "V2_c = pd.Series(V2, name=\"k2\").value_counts()\n",
    "V3_c = pd.Series(V3, name=\"k3\").value_counts()"
   ]
  },
  {
   "cell_type": "code",
   "execution_count": 108,
   "metadata": {},
   "outputs": [
    {
     "data": {
      "text/html": [
       "<div>\n",
       "<style scoped>\n",
       "    .dataframe tbody tr th:only-of-type {\n",
       "        vertical-align: middle;\n",
       "    }\n",
       "\n",
       "    .dataframe tbody tr th {\n",
       "        vertical-align: top;\n",
       "    }\n",
       "\n",
       "    .dataframe thead th {\n",
       "        text-align: right;\n",
       "    }\n",
       "</style>\n",
       "<table border=\"1\" class=\"dataframe\">\n",
       "  <thead>\n",
       "    <tr style=\"text-align: right;\">\n",
       "      <th></th>\n",
       "      <th>k1</th>\n",
       "      <th>k2</th>\n",
       "      <th>k3</th>\n",
       "    </tr>\n",
       "  </thead>\n",
       "  <tbody>\n",
       "    <tr>\n",
       "      <th>confianza</th>\n",
       "      <td>0.000699</td>\n",
       "      <td>0.000589</td>\n",
       "      <td>0.000993</td>\n",
       "    </tr>\n",
       "    <tr>\n",
       "      <th>genéricos</th>\n",
       "      <td>0.000200</td>\n",
       "      <td>0.000147</td>\n",
       "      <td>0.000166</td>\n",
       "    </tr>\n",
       "    <tr>\n",
       "      <th>detalle</th>\n",
       "      <td>0.000050</td>\n",
       "      <td>0.000294</td>\n",
       "      <td>0.000331</td>\n",
       "    </tr>\n",
       "    <tr>\n",
       "      <th>mostrar</th>\n",
       "      <td>0.000249</td>\n",
       "      <td>0.000147</td>\n",
       "      <td>0.000331</td>\n",
       "    </tr>\n",
       "    <tr>\n",
       "      <th>375</th>\n",
       "      <td>0.000150</td>\n",
       "      <td>0.000441</td>\n",
       "      <td>0.000331</td>\n",
       "    </tr>\n",
       "    <tr>\n",
       "      <th>27</th>\n",
       "      <td>0.000200</td>\n",
       "      <td>0.000147</td>\n",
       "      <td>0.000166</td>\n",
       "    </tr>\n",
       "    <tr>\n",
       "      <th>hipotecario</th>\n",
       "      <td>0.000100</td>\n",
       "      <td>0.000147</td>\n",
       "      <td>0.000166</td>\n",
       "    </tr>\n",
       "    <tr>\n",
       "      <th>rompieron</th>\n",
       "      <td>0.000100</td>\n",
       "      <td>0.000147</td>\n",
       "      <td>0.000166</td>\n",
       "    </tr>\n",
       "    <tr>\n",
       "      <th>tarifas</th>\n",
       "      <td>0.000549</td>\n",
       "      <td>0.000147</td>\n",
       "      <td>0.000331</td>\n",
       "    </tr>\n",
       "    <tr>\n",
       "      <th>competencia</th>\n",
       "      <td>0.000150</td>\n",
       "      <td>0.000147</td>\n",
       "      <td>0.000166</td>\n",
       "    </tr>\n",
       "  </tbody>\n",
       "</table>\n",
       "</div>"
      ],
      "text/plain": [
       "                   k1        k2        k3\n",
       "confianza    0.000699  0.000589  0.000993\n",
       "genéricos    0.000200  0.000147  0.000166\n",
       "detalle      0.000050  0.000294  0.000331\n",
       "mostrar      0.000249  0.000147  0.000331\n",
       "375          0.000150  0.000441  0.000331\n",
       "27           0.000200  0.000147  0.000166\n",
       "hipotecario  0.000100  0.000147  0.000166\n",
       "rompieron    0.000100  0.000147  0.000166\n",
       "tarifas      0.000549  0.000147  0.000331\n",
       "competencia  0.000150  0.000147  0.000166"
      ]
     },
     "execution_count": 108,
     "metadata": {},
     "output_type": "execute_result"
    }
   ],
   "source": [
    "L = (vocab.join(V1_c, how = \"left\")\n",
    "          .join(V2_c, how = \"left\")\n",
    "          .join (V3_c, how = \"left\"))\n",
    "\n",
    "L = L.fillna(0) + 1\n",
    "L = L / L.sum(axis=0)\n",
    "L.sample(10, random_state=314)"
   ]
  },
  {
   "cell_type": "code",
   "execution_count": 126,
   "metadata": {},
   "outputs": [],
   "source": [
    "log_prior_k1 = np.log(N1 / N)\n",
    "log_prior_k2 = np.log(N2 / N)\n",
    "log_prior_k3 = np.log(N3 / N)\n",
    "log_priors = np.array([log_prior_k1, log_prior_k2, log_prior_k3])"
   ]
  },
  {
   "cell_type": "code",
   "execution_count": 127,
   "metadata": {},
   "outputs": [
    {
     "data": {
      "text/plain": [
       "['k1',\n",
       " 'k1',\n",
       " 'k1',\n",
       " 'k1',\n",
       " 'k1',\n",
       " 'k1',\n",
       " 'k1',\n",
       " 'k1',\n",
       " 'k1',\n",
       " 'k1',\n",
       " 'k1',\n",
       " 'k1',\n",
       " 'k1',\n",
       " 'k1',\n",
       " 'k1',\n",
       " 'k2',\n",
       " 'k2',\n",
       " 'k2',\n",
       " 'k2',\n",
       " 'k3',\n",
       " 'k3',\n",
       " 'k3',\n",
       " 'k3']"
      ]
     },
     "execution_count": 127,
     "metadata": {},
     "output_type": "execute_result"
    }
   ],
   "source": [
    "D_test = D1_test + D2_test + D3_test\n",
    "y_test = [\"k1\"] * len(D1_test) + [\"k2\"] * len(D2_test) + [\"k3\"] * len(D3_test)\n",
    "y_test"
   ]
  },
  {
   "cell_type": "code",
   "execution_count": 131,
   "metadata": {},
   "outputs": [],
   "source": [
    "log_L=np.log(L)\n",
    "yhat_test = []\n",
    "\n",
    "for d_test in D_test:\n",
    "    f = set([palabra for palabra in d_test.split() if palabra in V])\n",
    "    res = log_L.loc[f].sum(axis=0) + log_priors\n",
    "    yhat_test.append(res.idxmax())"
   ]
  },
  {
   "cell_type": "code",
   "execution_count": 132,
   "metadata": {},
   "outputs": [
    {
     "data": {
      "text/plain": [
       "array([[11,  4,  0],\n",
       "       [ 1,  3,  0],\n",
       "       [ 4,  0,  0]])"
      ]
     },
     "execution_count": 132,
     "metadata": {},
     "output_type": "execute_result"
    }
   ],
   "source": [
    "from sklearn.metrics import confusion_matrix\n",
    "confusion_matrix(y_test, yhat_test)"
   ]
  },
  {
   "cell_type": "code",
   "execution_count": null,
   "metadata": {},
   "outputs": [],
   "source": []
  },
  {
   "cell_type": "code",
   "execution_count": null,
   "metadata": {},
   "outputs": [],
   "source": []
  }
 ],
 "metadata": {
  "kernelspec": {
   "display_name": "Python 3",
   "language": "python",
   "name": "python3"
  },
  "language_info": {
   "codemirror_mode": {
    "name": "ipython",
    "version": 3
   },
   "file_extension": ".py",
   "mimetype": "text/x-python",
   "name": "python",
   "nbconvert_exporter": "python",
   "pygments_lexer": "ipython3",
   "version": "3.7.6"
  }
 },
 "nbformat": 4,
 "nbformat_minor": 2
}
