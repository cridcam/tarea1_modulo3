{
 "cells": [
  {
   "cell_type": "code",
   "execution_count": 1,
   "metadata": {},
   "outputs": [],
   "source": [
    "import matplotlib.pyplot as plt\n",
    "import numpy as np\n",
    "import pandas as pd\n",
    "import re"
   ]
  },
  {
   "cell_type": "code",
   "execution_count": 2,
   "metadata": {},
   "outputs": [],
   "source": [
    "emisoras_path = \"bmv_emisoras.csv\" # Modificar a ruta\n",
    "emisoras = pd.read_csv(emisoras_path, index_col=0)"
   ]
  },
  {
   "cell_type": "code",
   "execution_count": 3,
   "metadata": {},
   "outputs": [],
   "source": [
    "ipc_path = \"ipc.xlsx\" # Modificar a ruta\n",
    "ipc = pd.read_excel(ipc_path, index_col=0)\n",
    "ipc.columns = [c.replace(\" MF Equity\", \"\").replace(\" INDEX\", \"\").replace(\"*\", \"\") for c in ipc.columns]\n",
    "ipc.columns =  [c.replace(\"TLEVICPO\", \"TLEVISA\") for c in ipc]"
   ]
  },
  {
   "cell_type": "code",
   "execution_count": 4,
   "metadata": {},
   "outputs": [
    {
     "data": {
      "text/plain": [
       "[2, 26]"
      ]
     },
     "execution_count": 4,
     "metadata": {},
     "output_type": "execute_result"
    }
   ],
   "source": [
    "indice_cpo_ubl=[]\n",
    "for i in range(len(ipc.columns)):\n",
    "    if ((ipc.columns[i][-3:]=='CPO')==True):\n",
    "        indice_cpo_ubl.append(1)\n",
    "    elif ((ipc.columns[i][-3:]=='UBL')==True):\n",
    "        indice_cpo_ubl.append(2)\n",
    "    elif ((ipc.columns[i][-3:]=='UBD')==True):\n",
    "        indice_cpo_ubl.append(3)\n",
    "    elif ((ipc.columns[i][-2:]=='A1')==True):\n",
    "        indice_cpo_ubl.append(4)\n",
    "    else:\n",
    "        indice_cpo_ubl.append(0)\n",
    "m=[i for i,x in enumerate(indice_cpo_ubl) if x==1]\n",
    "n=[i for i,x in enumerate(indice_cpo_ubl) if x==2]\n",
    "o=[i for i,x in enumerate(indice_cpo_ubl) if x==3]\n",
    "p=[i for i,x in enumerate(indice_cpo_ubl) if x==4]\n",
    "m"
   ]
  },
  {
   "cell_type": "code",
   "execution_count": 5,
   "metadata": {},
   "outputs": [
    {
     "data": {
      "text/plain": [
       "[5]"
      ]
     },
     "execution_count": 5,
     "metadata": {},
     "output_type": "execute_result"
    }
   ],
   "source": [
    "n"
   ]
  },
  {
   "cell_type": "code",
   "execution_count": 6,
   "metadata": {},
   "outputs": [
    {
     "data": {
      "text/plain": [
       "[8]"
      ]
     },
     "execution_count": 6,
     "metadata": {},
     "output_type": "execute_result"
    }
   ],
   "source": [
    "o"
   ]
  },
  {
   "cell_type": "code",
   "execution_count": 7,
   "metadata": {},
   "outputs": [
    {
     "data": {
      "text/plain": [
       "[30]"
      ]
     },
     "execution_count": 7,
     "metadata": {},
     "output_type": "execute_result"
    }
   ],
   "source": [
    "p"
   ]
  },
  {
   "cell_type": "code",
   "execution_count": 8,
   "metadata": {},
   "outputs": [],
   "source": [
    "ipc=ipc.rename(columns={ipc.columns[2]:ipc.columns[2][:-3]})"
   ]
  },
  {
   "cell_type": "code",
   "execution_count": 9,
   "metadata": {},
   "outputs": [],
   "source": [
    "ipc=ipc.rename(columns={ipc.columns[5]:ipc.columns[5][:-3]})"
   ]
  },
  {
   "cell_type": "code",
   "execution_count": 10,
   "metadata": {},
   "outputs": [],
   "source": [
    "ipc=ipc.rename(columns={ipc.columns[8]:ipc.columns[8][:-3]})"
   ]
  },
  {
   "cell_type": "code",
   "execution_count": 11,
   "metadata": {},
   "outputs": [],
   "source": [
    "ipc=ipc.rename(columns={ipc.columns[26]:ipc.columns[26][:-3]})"
   ]
  },
  {
   "cell_type": "code",
   "execution_count": 12,
   "metadata": {},
   "outputs": [],
   "source": [
    "ipc=ipc.rename(columns={ipc.columns[30]:ipc.columns[30][:-2]})"
   ]
  },
  {
   "cell_type": "code",
   "execution_count": 13,
   "metadata": {},
   "outputs": [
    {
     "data": {
      "text/plain": [
       "Index(['KIMBERA', 'GAPB', 'CEMEX', 'ASURB', 'GFNORTEO', 'KOF', 'AC', 'LABB',\n",
       "       'FEMSA', 'OMAB', 'GFINBURO', 'AMXL', 'ALSEA', 'ORBIA', 'PE&OLES',\n",
       "       'GRUMAB', 'RA', 'WALMEX', 'BOLSAA', 'LIVEPOLC', 'GENTERA', 'IENOVA',\n",
       "       'CUERVO', 'ELEKTRA', 'BBAJIOO', 'ALPEKA', 'MEGA', 'GCC', 'BIMBOA',\n",
       "       'GMEXICOB', 'GCARSO', 'TLEVISA', 'ALFAA', 'BSMXB', 'PINFRA', 'MEXBOL'],\n",
       "      dtype='object')"
      ]
     },
     "execution_count": 13,
     "metadata": {},
     "output_type": "execute_result"
    }
   ],
   "source": [
    "ipc.columns"
   ]
  },
  {
   "cell_type": "code",
   "execution_count": 14,
   "metadata": {},
   "outputs": [
    {
     "data": {
      "text/plain": [
       "[1, 3, 7, 9, 15, 29, 33]"
      ]
     },
     "execution_count": 14,
     "metadata": {},
     "output_type": "execute_result"
    }
   ],
   "source": [
    "indice_b=[]\n",
    "for i in range(len(ipc.columns)):\n",
    "    if ((ipc.columns[i][-1:]=='B')==True):\n",
    "        indice_b.append(1)\n",
    "    else:\n",
    "        indice_b.append(0)\n",
    "q=[i for i,x in enumerate(indice_b) if x==1]\n",
    "#n=[i for i,x in enumerate(indice_b) if x==2]\n",
    "q"
   ]
  },
  {
   "cell_type": "code",
   "execution_count": 15,
   "metadata": {},
   "outputs": [],
   "source": [
    "ipc=ipc.rename(columns={ipc.columns[1]:ipc.columns[1][:-1]})"
   ]
  },
  {
   "cell_type": "code",
   "execution_count": 16,
   "metadata": {},
   "outputs": [],
   "source": [
    "ipc=ipc.rename(columns={ipc.columns[3]:ipc.columns[3][:-1]})"
   ]
  },
  {
   "cell_type": "code",
   "execution_count": 17,
   "metadata": {},
   "outputs": [],
   "source": [
    "ipc=ipc.rename(columns={ipc.columns[7]:ipc.columns[7][:-1]})"
   ]
  },
  {
   "cell_type": "code",
   "execution_count": 18,
   "metadata": {},
   "outputs": [],
   "source": [
    "ipc=ipc.rename(columns={ipc.columns[9]:ipc.columns[9][:-1]})"
   ]
  },
  {
   "cell_type": "code",
   "execution_count": 19,
   "metadata": {},
   "outputs": [],
   "source": [
    "ipc=ipc.rename(columns={ipc.columns[15]:ipc.columns[15][:-1]})"
   ]
  },
  {
   "cell_type": "code",
   "execution_count": 20,
   "metadata": {},
   "outputs": [],
   "source": [
    "ipc=ipc.rename(columns={ipc.columns[29]:ipc.columns[29][:-1]})"
   ]
  },
  {
   "cell_type": "code",
   "execution_count": 21,
   "metadata": {},
   "outputs": [],
   "source": [
    "ipc=ipc.rename(columns={ipc.columns[33]:ipc.columns[33][:-1]})"
   ]
  },
  {
   "cell_type": "code",
   "execution_count": 22,
   "metadata": {},
   "outputs": [
    {
     "data": {
      "text/plain": [
       "[0, 8, 9, 12, 13, 15, 16, 18, 20, 21, 23, 25, 26, 28, 31, 32, 34]"
      ]
     },
     "execution_count": 22,
     "metadata": {},
     "output_type": "execute_result"
    }
   ],
   "source": [
    "indice_a=[]\n",
    "for i in range(len(ipc.columns)):\n",
    "    if ((ipc.columns[i][-1:]=='A')==True):\n",
    "        indice_a.append(1)\n",
    "    else:\n",
    "        indice_a.append(0)\n",
    "r=[i for i,x in enumerate(indice_a) if x==1]\n",
    "#n=[i for i,x in enumerate(indice_b) if x==2]\n",
    "r"
   ]
  },
  {
   "cell_type": "code",
   "execution_count": 23,
   "metadata": {},
   "outputs": [],
   "source": [
    "ipc=ipc.rename(columns={ipc.columns[0]:ipc.columns[0][:-1]})"
   ]
  },
  {
   "cell_type": "code",
   "execution_count": 24,
   "metadata": {},
   "outputs": [],
   "source": [
    "ipc=ipc.rename(columns={ipc.columns[16]:ipc.columns[16][:-1]})"
   ]
  },
  {
   "cell_type": "code",
   "execution_count": 25,
   "metadata": {},
   "outputs": [],
   "source": [
    "ipc=ipc.rename(columns={ipc.columns[18]:ipc.columns[18][:-1]})"
   ]
  },
  {
   "cell_type": "code",
   "execution_count": 26,
   "metadata": {},
   "outputs": [],
   "source": [
    "ipc=ipc.rename(columns={ipc.columns[25]:ipc.columns[25][:-1]})"
   ]
  },
  {
   "cell_type": "code",
   "execution_count": 27,
   "metadata": {},
   "outputs": [],
   "source": [
    "ipc=ipc.rename(columns={ipc.columns[28]:ipc.columns[28][:-1]})"
   ]
  },
  {
   "cell_type": "code",
   "execution_count": 28,
   "metadata": {},
   "outputs": [],
   "source": [
    "ipc=ipc.rename(columns={ipc.columns[32]:ipc.columns[32][:-1]})"
   ]
  },
  {
   "cell_type": "code",
   "execution_count": 29,
   "metadata": {},
   "outputs": [
    {
     "data": {
      "text/plain": [
       "Index(['KIMBER', 'GAP', 'CEMEX', 'ASUR', 'GFNORTEO', 'KOF', 'AC', 'LAB',\n",
       "       'FEMSA', 'OMA', 'GFINBURO', 'AMXL', 'ALSEA', 'ORBIA', 'PE&OLES',\n",
       "       'GRUMA', 'R', 'WALMEX', 'BOLSA', 'LIVEPOLC', 'GENTERA', 'IENOVA',\n",
       "       'CUERVO', 'ELEKTRA', 'BBAJIOO', 'ALPEK', 'MEGA', 'GCC', 'BIMBO',\n",
       "       'GMEXICO', 'GCARSO', 'TLEVISA', 'ALFA', 'BSMX', 'PINFRA', 'MEXBOL'],\n",
       "      dtype='object')"
      ]
     },
     "execution_count": 29,
     "metadata": {},
     "output_type": "execute_result"
    }
   ],
   "source": [
    "ipc.columns"
   ]
  },
  {
   "cell_type": "code",
   "execution_count": 30,
   "metadata": {},
   "outputs": [],
   "source": [
    "ipc.columns =  [c.replace(\"GFNORTEO\", \"GFNORTE\") for c in ipc]\n",
    "ipc.columns =  [c.replace(\"BBAJIOO\", \"BBAJIO\") for c in ipc]\n",
    "ipc.columns =  [c.replace(\"AMXL\", \"AMX\") for c in ipc]\n",
    "ipc.columns =  [c.replace(\"LIVEPOLC\", \"LIVEPOL\") for c in ipc]\n",
    "ipc.columns =  [c.replace(\"GFINBURO\", \"GFINBUR\") for c in ipc]"
   ]
  },
  {
   "cell_type": "code",
   "execution_count": 31,
   "metadata": {},
   "outputs": [
    {
     "data": {
      "text/plain": [
       "Index(['KIMBER', 'GAP', 'CEMEX', 'ASUR', 'GFNORTE', 'KOF', 'AC', 'LAB',\n",
       "       'FEMSA', 'OMA', 'GFINBUR', 'AMX', 'ALSEA', 'ORBIA', 'PE&OLES', 'GRUMA',\n",
       "       'R', 'WALMEX', 'BOLSA', 'LIVEPOL', 'GENTERA', 'IENOVA', 'CUERVO',\n",
       "       'ELEKTRA', 'BBAJIO', 'ALPEK', 'MEGA', 'GCC', 'BIMBO', 'GMEXICO',\n",
       "       'GCARSO', 'TLEVISA', 'ALFA', 'BSMX', 'PINFRA', 'MEXBOL'],\n",
       "      dtype='object')"
      ]
     },
     "execution_count": 31,
     "metadata": {},
     "output_type": "execute_result"
    }
   ],
   "source": [
    "ipc.columns"
   ]
  },
  {
   "cell_type": "code",
   "execution_count": 32,
   "metadata": {},
   "outputs": [],
   "source": [
    "emisoras_ipc_sector = ipc.groupby(emisoras[\"Sector\"], axis=1).mean()"
   ]
  },
  {
   "cell_type": "code",
   "execution_count": 33,
   "metadata": {},
   "outputs": [
    {
     "data": {
      "text/html": [
       "<div>\n",
       "<style scoped>\n",
       "    .dataframe tbody tr th:only-of-type {\n",
       "        vertical-align: middle;\n",
       "    }\n",
       "\n",
       "    .dataframe tbody tr th {\n",
       "        vertical-align: top;\n",
       "    }\n",
       "\n",
       "    .dataframe thead th {\n",
       "        text-align: right;\n",
       "    }\n",
       "</style>\n",
       "<table border=\"1\" class=\"dataframe\">\n",
       "  <thead>\n",
       "    <tr style=\"text-align: right;\">\n",
       "      <th>Sector</th>\n",
       "      <th>ENERGÍA</th>\n",
       "      <th>INDUSTRIAL</th>\n",
       "      <th>MATERIALES</th>\n",
       "      <th>PRODUCTOS DE CONSUMO FRECUENTE</th>\n",
       "      <th>SALUD</th>\n",
       "      <th>SERVICIOS DE TELECOMUNICACIONES</th>\n",
       "      <th>SERVICIOS FINANCIEROS</th>\n",
       "      <th>SERVICIOS Y BIENES DE CONSUMO NO BÁSICO</th>\n",
       "      <th>indice</th>\n",
       "    </tr>\n",
       "    <tr>\n",
       "      <th>DATE</th>\n",
       "      <th></th>\n",
       "      <th></th>\n",
       "      <th></th>\n",
       "      <th></th>\n",
       "      <th></th>\n",
       "      <th></th>\n",
       "      <th></th>\n",
       "      <th></th>\n",
       "      <th></th>\n",
       "    </tr>\n",
       "  </thead>\n",
       "  <tbody>\n",
       "    <tr>\n",
       "      <th>2016-01-01</th>\n",
       "      <td>72.34</td>\n",
       "      <td>117.845714</td>\n",
       "      <td>58.346</td>\n",
       "      <td>108.824286</td>\n",
       "      <td>13.85</td>\n",
       "      <td>56.883333</td>\n",
       "      <td>50.148333</td>\n",
       "      <td>216.333333</td>\n",
       "      <td>86.821375</td>\n",
       "    </tr>\n",
       "    <tr>\n",
       "      <th>2016-01-04</th>\n",
       "      <td>72.98</td>\n",
       "      <td>116.128571</td>\n",
       "      <td>57.482</td>\n",
       "      <td>106.207143</td>\n",
       "      <td>14.41</td>\n",
       "      <td>56.366667</td>\n",
       "      <td>49.115000</td>\n",
       "      <td>212.393333</td>\n",
       "      <td>85.635339</td>\n",
       "    </tr>\n",
       "    <tr>\n",
       "      <th>2016-01-05</th>\n",
       "      <td>71.48</td>\n",
       "      <td>115.488571</td>\n",
       "      <td>57.648</td>\n",
       "      <td>105.451429</td>\n",
       "      <td>13.77</td>\n",
       "      <td>55.673333</td>\n",
       "      <td>48.971667</td>\n",
       "      <td>209.043333</td>\n",
       "      <td>84.690792</td>\n",
       "    </tr>\n",
       "    <tr>\n",
       "      <th>2016-01-06</th>\n",
       "      <td>70.94</td>\n",
       "      <td>114.577143</td>\n",
       "      <td>56.514</td>\n",
       "      <td>107.150000</td>\n",
       "      <td>13.65</td>\n",
       "      <td>55.140000</td>\n",
       "      <td>48.645000</td>\n",
       "      <td>202.943333</td>\n",
       "      <td>83.694935</td>\n",
       "    </tr>\n",
       "    <tr>\n",
       "      <th>2016-01-07</th>\n",
       "      <td>72.31</td>\n",
       "      <td>112.128571</td>\n",
       "      <td>56.122</td>\n",
       "      <td>106.498571</td>\n",
       "      <td>13.25</td>\n",
       "      <td>54.783333</td>\n",
       "      <td>47.453333</td>\n",
       "      <td>200.226667</td>\n",
       "      <td>82.846560</td>\n",
       "    </tr>\n",
       "    <tr>\n",
       "      <th>...</th>\n",
       "      <td>...</td>\n",
       "      <td>...</td>\n",
       "      <td>...</td>\n",
       "      <td>...</td>\n",
       "      <td>...</td>\n",
       "      <td>...</td>\n",
       "      <td>...</td>\n",
       "      <td>...</td>\n",
       "      <td>...</td>\n",
       "    </tr>\n",
       "    <tr>\n",
       "      <th>2019-12-30</th>\n",
       "      <td>86.96</td>\n",
       "      <td>148.727143</td>\n",
       "      <td>76.360</td>\n",
       "      <td>94.361250</td>\n",
       "      <td>18.58</td>\n",
       "      <td>45.550000</td>\n",
       "      <td>50.254286</td>\n",
       "      <td>512.143333</td>\n",
       "      <td>129.117001</td>\n",
       "    </tr>\n",
       "    <tr>\n",
       "      <th>2019-12-31</th>\n",
       "      <td>88.93</td>\n",
       "      <td>148.557143</td>\n",
       "      <td>75.780</td>\n",
       "      <td>93.612500</td>\n",
       "      <td>18.71</td>\n",
       "      <td>45.636667</td>\n",
       "      <td>50.471429</td>\n",
       "      <td>510.700000</td>\n",
       "      <td>129.049717</td>\n",
       "    </tr>\n",
       "    <tr>\n",
       "      <th>2020-01-01</th>\n",
       "      <td>88.93</td>\n",
       "      <td>148.557143</td>\n",
       "      <td>75.780</td>\n",
       "      <td>93.612500</td>\n",
       "      <td>18.71</td>\n",
       "      <td>45.636667</td>\n",
       "      <td>50.471429</td>\n",
       "      <td>510.700000</td>\n",
       "      <td>129.049717</td>\n",
       "    </tr>\n",
       "    <tr>\n",
       "      <th>2020-01-02</th>\n",
       "      <td>87.76</td>\n",
       "      <td>151.234286</td>\n",
       "      <td>77.944</td>\n",
       "      <td>94.857500</td>\n",
       "      <td>18.78</td>\n",
       "      <td>45.976667</td>\n",
       "      <td>52.264286</td>\n",
       "      <td>511.993333</td>\n",
       "      <td>130.101259</td>\n",
       "    </tr>\n",
       "    <tr>\n",
       "      <th>2020-01-03</th>\n",
       "      <td>89.22</td>\n",
       "      <td>152.247143</td>\n",
       "      <td>78.734</td>\n",
       "      <td>95.492500</td>\n",
       "      <td>18.79</td>\n",
       "      <td>46.040000</td>\n",
       "      <td>52.058571</td>\n",
       "      <td>511.463333</td>\n",
       "      <td>130.505693</td>\n",
       "    </tr>\n",
       "  </tbody>\n",
       "</table>\n",
       "<p>1046 rows × 9 columns</p>\n",
       "</div>"
      ],
      "text/plain": [
       "Sector      ENERGÍA  INDUSTRIAL  MATERIALES  PRODUCTOS DE CONSUMO FRECUENTE  \\\n",
       "DATE                                                                          \n",
       "2016-01-01    72.34  117.845714      58.346                      108.824286   \n",
       "2016-01-04    72.98  116.128571      57.482                      106.207143   \n",
       "2016-01-05    71.48  115.488571      57.648                      105.451429   \n",
       "2016-01-06    70.94  114.577143      56.514                      107.150000   \n",
       "2016-01-07    72.31  112.128571      56.122                      106.498571   \n",
       "...             ...         ...         ...                             ...   \n",
       "2019-12-30    86.96  148.727143      76.360                       94.361250   \n",
       "2019-12-31    88.93  148.557143      75.780                       93.612500   \n",
       "2020-01-01    88.93  148.557143      75.780                       93.612500   \n",
       "2020-01-02    87.76  151.234286      77.944                       94.857500   \n",
       "2020-01-03    89.22  152.247143      78.734                       95.492500   \n",
       "\n",
       "Sector      SALUD  SERVICIOS DE TELECOMUNICACIONES  SERVICIOS FINANCIEROS  \\\n",
       "DATE                                                                        \n",
       "2016-01-01  13.85                        56.883333              50.148333   \n",
       "2016-01-04  14.41                        56.366667              49.115000   \n",
       "2016-01-05  13.77                        55.673333              48.971667   \n",
       "2016-01-06  13.65                        55.140000              48.645000   \n",
       "2016-01-07  13.25                        54.783333              47.453333   \n",
       "...           ...                              ...                    ...   \n",
       "2019-12-30  18.58                        45.550000              50.254286   \n",
       "2019-12-31  18.71                        45.636667              50.471429   \n",
       "2020-01-01  18.71                        45.636667              50.471429   \n",
       "2020-01-02  18.78                        45.976667              52.264286   \n",
       "2020-01-03  18.79                        46.040000              52.058571   \n",
       "\n",
       "Sector      SERVICIOS Y BIENES DE CONSUMO NO BÁSICO      indice  \n",
       "DATE                                                             \n",
       "2016-01-01                               216.333333   86.821375  \n",
       "2016-01-04                               212.393333   85.635339  \n",
       "2016-01-05                               209.043333   84.690792  \n",
       "2016-01-06                               202.943333   83.694935  \n",
       "2016-01-07                               200.226667   82.846560  \n",
       "...                                             ...         ...  \n",
       "2019-12-30                               512.143333  129.117001  \n",
       "2019-12-31                               510.700000  129.049717  \n",
       "2020-01-01                               510.700000  129.049717  \n",
       "2020-01-02                               511.993333  130.101259  \n",
       "2020-01-03                               511.463333  130.505693  \n",
       "\n",
       "[1046 rows x 9 columns]"
      ]
     },
     "execution_count": 33,
     "metadata": {},
     "output_type": "execute_result"
    }
   ],
   "source": [
    "emisoras_ipc_sector[\"indice\"]=emisoras_ipc_sector.mean(axis=1)\n",
    "emisoras_ipc_sector"
   ]
  },
  {
   "cell_type": "code",
   "execution_count": 34,
   "metadata": {},
   "outputs": [],
   "source": [
    "from sklearn.linear_model import LogisticRegression\n",
    "from sklearn.model_selection import train_test_split, cross_validate, GridSearchCV\n",
    "from sklearn.metrics import confusion_matrix\n",
    "from numpy.random import uniform\n",
    "from sklearn.preprocessing import PolynomialFeatures\n",
    "from sklearn.pipeline import Pipeline"
   ]
  },
  {
   "cell_type": "code",
   "execution_count": 35,
   "metadata": {},
   "outputs": [],
   "source": [
    "alpha= uniform(0.1, 1, 300)"
   ]
  },
  {
   "cell_type": "code",
   "execution_count": 36,
   "metadata": {},
   "outputs": [
    {
     "data": {
      "text/plain": [
       "0.0    523\n",
       "1.0    521\n",
       "Name: target, dtype: int64"
      ]
     },
     "execution_count": 36,
     "metadata": {},
     "output_type": "execute_result"
    }
   ],
   "source": [
    "# Limpiando información\n",
    "y = (emisoras_ipc_sector[\"indice\"].pct_change() > 0).astype(int)\n",
    "y.name = \"target\"\n",
    "X = emisoras_ipc_sector[[\"indice\"]].pct_change().dropna()\n",
    "\n",
    "X = X.join(y.shift(-1).dropna(), how=\"inner\")\n",
    "\n",
    "y = X[\"target\"]\n",
    "X = X[[\"indice\"]]\n",
    "y.value_counts()"
   ]
  },
  {
   "cell_type": "code",
   "execution_count": 37,
   "metadata": {},
   "outputs": [],
   "source": [
    "params = {\n",
    "    \"model__warm_start\":[True,False],\n",
    "    \"model__C\": alpha,\n",
    "    \"poly__degree\": [1,2]\n",
    "    \n",
    "}\n",
    "\n",
    "pipe = Pipeline([\n",
    "    (\"poly\", PolynomialFeatures(degree=2, include_bias=False)),\n",
    "    (\"model\", LogisticRegression())\n",
    "])"
   ]
  },
  {
   "cell_type": "code",
   "execution_count": 38,
   "metadata": {},
   "outputs": [],
   "source": [
    "gcv = GridSearchCV(pipe, params)"
   ]
  },
  {
   "cell_type": "code",
   "execution_count": 39,
   "metadata": {},
   "outputs": [],
   "source": [
    "Xtrain, ytrain = X[:\"2018\"], y[:\"2018\"]\n",
    "Xtest, ytest = X[:\"2019\"], y[:\"2019\"]"
   ]
  },
  {
   "cell_type": "code",
   "execution_count": 40,
   "metadata": {},
   "outputs": [
    {
     "data": {
      "text/plain": [
       "GridSearchCV(cv=None, error_score=nan,\n",
       "             estimator=Pipeline(memory=None,\n",
       "                                steps=[('poly',\n",
       "                                        PolynomialFeatures(degree=2,\n",
       "                                                           include_bias=False,\n",
       "                                                           interaction_only=False,\n",
       "                                                           order='C')),\n",
       "                                       ('model',\n",
       "                                        LogisticRegression(C=1.0,\n",
       "                                                           class_weight=None,\n",
       "                                                           dual=False,\n",
       "                                                           fit_intercept=True,\n",
       "                                                           intercept_scaling=1,\n",
       "                                                           l1_ratio=None,\n",
       "                                                           max_iter=100,\n",
       "                                                           multi_class='auto',\n",
       "                                                           n_jobs=None,\n",
       "                                                           penalty='l2',\n",
       "                                                           random_state...\n",
       "       0.7225564 , 0.30945554, 0.47701139, 0.74479777, 0.40747083,\n",
       "       0.88315484, 0.36724463, 0.94357923, 0.7275248 , 0.9352214 ,\n",
       "       0.4374072 , 0.41734111, 0.18404934, 0.38046763, 0.3583502 ,\n",
       "       0.48799688, 0.36075756, 0.76212372, 0.46453737, 0.8926851 ]),\n",
       "                         'model__warm_start': [True, False],\n",
       "                         'poly__degree': [1, 2]},\n",
       "             pre_dispatch='2*n_jobs', refit=True, return_train_score=False,\n",
       "             scoring='r2', verbose=0)"
      ]
     },
     "execution_count": 40,
     "metadata": {},
     "output_type": "execute_result"
    }
   ],
   "source": [
    "gcv.fit(Xtrain, ytrain)"
   ]
  },
  {
   "cell_type": "code",
   "execution_count": 41,
   "metadata": {
    "scrolled": true
   },
   "outputs": [
    {
     "data": {
      "text/plain": [
       "{'model__C': 0.7037379765610716, 'model__warm_start': True, 'poly__degree': 1}"
      ]
     },
     "execution_count": 41,
     "metadata": {},
     "output_type": "execute_result"
    }
   ],
   "source": [
    "gcv.best_params_"
   ]
  },
  {
   "cell_type": "code",
   "execution_count": 42,
   "metadata": {},
   "outputs": [
    {
     "data": {
      "text/plain": [
       "array([[0.10051567]])"
      ]
     },
     "execution_count": 42,
     "metadata": {},
     "output_type": "execute_result"
    }
   ],
   "source": [
    "gcv.best_estimator_.named_steps[\"model\"].coef_"
   ]
  },
  {
   "cell_type": "code",
   "execution_count": 43,
   "metadata": {},
   "outputs": [],
   "source": [
    "res=cross_validate(gcv, Xtrain, ytrain, scoring=\"accuracy\")"
   ]
  },
  {
   "cell_type": "code",
   "execution_count": 44,
   "metadata": {},
   "outputs": [
    {
     "data": {
      "text/plain": [
       "array([0.50318471, 0.50641026, 0.50641026, 0.50641026, 0.50641026])"
      ]
     },
     "execution_count": 44,
     "metadata": {},
     "output_type": "execute_result"
    }
   ],
   "source": [
    "res[\"test_score\"]"
   ]
  },
  {
   "cell_type": "code",
   "execution_count": 53,
   "metadata": {},
   "outputs": [],
   "source": [
    "yhat = gcv.predict(Xtest)"
   ]
  },
  {
   "cell_type": "code",
   "execution_count": 54,
   "metadata": {},
   "outputs": [
    {
     "data": {
      "text/plain": [
       "array([[  0, 523],\n",
       "       [  0, 519]])"
      ]
     },
     "execution_count": 54,
     "metadata": {},
     "output_type": "execute_result"
    }
   ],
   "source": [
    "confusion_matrix(ytest, yhat, labels=[0, 1])"
   ]
  },
  {
   "cell_type": "code",
   "execution_count": 50,
   "metadata": {},
   "outputs": [
    {
     "data": {
      "text/plain": [
       "DATE\n",
       "2016-01-04    0.0\n",
       "2016-01-05    0.0\n",
       "2016-01-06    0.0\n",
       "2016-01-07    0.0\n",
       "2016-01-08    1.0\n",
       "             ... \n",
       "2019-12-25    1.0\n",
       "2019-12-26    0.0\n",
       "2019-12-27    0.0\n",
       "2019-12-30    0.0\n",
       "2019-12-31    0.0\n",
       "Name: target, Length: 1042, dtype: float64"
      ]
     },
     "execution_count": 50,
     "metadata": {},
     "output_type": "execute_result"
    }
   ],
   "source": [
    "ytest"
   ]
  },
  {
   "cell_type": "code",
   "execution_count": 55,
   "metadata": {},
   "outputs": [],
   "source": [
    "from sklearn.metrics import precision_score, recall_score, f1_score"
   ]
  },
  {
   "cell_type": "code",
   "execution_count": 56,
   "metadata": {},
   "outputs": [
    {
     "data": {
      "text/plain": [
       "0.4980806142034549"
      ]
     },
     "execution_count": 56,
     "metadata": {},
     "output_type": "execute_result"
    }
   ],
   "source": [
    "precision_score(ytest, yhat)"
   ]
  },
  {
   "cell_type": "code",
   "execution_count": 57,
   "metadata": {},
   "outputs": [
    {
     "data": {
      "text/plain": [
       "1.0"
      ]
     },
     "execution_count": 57,
     "metadata": {},
     "output_type": "execute_result"
    }
   ],
   "source": [
    "recall_score(ytest, yhat)"
   ]
  },
  {
   "cell_type": "code",
   "execution_count": 58,
   "metadata": {},
   "outputs": [
    {
     "data": {
      "text/plain": [
       "0.6649583600256246"
      ]
     },
     "execution_count": 58,
     "metadata": {},
     "output_type": "execute_result"
    }
   ],
   "source": [
    "f1_score(ytest, yhat)"
   ]
  },
  {
   "cell_type": "code",
   "execution_count": 59,
   "metadata": {},
   "outputs": [],
   "source": [
    "from sklearn.metrics import precision_recall_curve"
   ]
  },
  {
   "cell_type": "code",
   "execution_count": 61,
   "metadata": {},
   "outputs": [
    {
     "data": {
      "text/plain": [
       "Text(0.5, 0, 'Nivel de proba asignada')"
      ]
     },
     "execution_count": 61,
     "metadata": {},
     "output_type": "execute_result"
    },
    {
     "data": {
      "image/png": "[encoded data removed]",
      "text/plain": [
       "<Figure size 432x288 with 1 Axes>"
      ]
     },
     "metadata": {
      "needs_background": "light"
     },
     "output_type": "display_data"
    }
   ],
   "source": [
    "proba_estimate = gcv.predict_proba(Xtest)[:, 1]\n",
    "prec, recall, threshold = precision_recall_curve(ytest, proba_estimate)\n",
    "\n",
    "plt.plot(threshold, prec[:-1], label=\"precision\")\n",
    "plt.plot(threshold, recall[:-1], label=\"recall\")\n",
    "plt.legend()\n",
    "plt.axvline(x=0.5, linestyle=\"--\", c=\"black\")\n",
    "plt.axhline(y=0.5, linestyle=\"--\", c=\"black\")\n",
    "plt.xlabel(\"Nivel de proba asignada\")"
   ]
  },
  {
   "cell_type": "code",
   "execution_count": 66,
   "metadata": {},
   "outputs": [
    {
     "name": "stdout",
     "output_type": "stream",
     "text": [
      "Requirement already satisfied: nbconvert in /opt/anaconda3/lib/python3.7/site-packages (5.6.1)\n",
      "Requirement already satisfied: traitlets>=4.2 in /opt/anaconda3/lib/python3.7/site-packages (from nbconvert) (4.3.3)\n",
      "Requirement already satisfied: jupyter-core in /opt/anaconda3/lib/python3.7/site-packages (from nbconvert) (4.6.1)\n",
      "Requirement already satisfied: entrypoints>=0.2.2 in /opt/anaconda3/lib/python3.7/site-packages (from nbconvert) (0.3)\n",
      "Requirement already satisfied: testpath in /opt/anaconda3/lib/python3.7/site-packages (from nbconvert) (0.4.4)\n",
      "Requirement already satisfied: nbformat>=4.4 in /opt/anaconda3/lib/python3.7/site-packages (from nbconvert) (5.0.4)\n",
      "Requirement already satisfied: jinja2>=2.4 in /opt/anaconda3/lib/python3.7/site-packages (from nbconvert) (2.11.1)\n",
      "Requirement already satisfied: defusedxml in /opt/anaconda3/lib/python3.7/site-packages (from nbconvert) (0.6.0)\n",
      "Requirement already satisfied: pandocfilters>=1.4.1 in /opt/anaconda3/lib/python3.7/site-packages (from nbconvert) (1.4.2)\n",
      "Requirement already satisfied: pygments in /opt/anaconda3/lib/python3.7/site-packages (from nbconvert) (2.5.2)\n",
      "Requirement already satisfied: bleach in /opt/anaconda3/lib/python3.7/site-packages (from nbconvert) (3.1.0)\n",
      "Requirement already satisfied: mistune<2,>=0.8.1 in /opt/anaconda3/lib/python3.7/site-packages (from nbconvert) (0.8.4)\n",
      "Requirement already satisfied: six in /opt/anaconda3/lib/python3.7/site-packages (from traitlets>=4.2->nbconvert) (1.14.0)\n",
      "Requirement already satisfied: ipython-genutils in /opt/anaconda3/lib/python3.7/site-packages (from traitlets>=4.2->nbconvert) (0.2.0)\n",
      "Requirement already satisfied: decorator in /opt/anaconda3/lib/python3.7/site-packages (from traitlets>=4.2->nbconvert) (4.4.1)\n",
      "Requirement already satisfied: jsonschema!=2.5.0,>=2.4 in /opt/anaconda3/lib/python3.7/site-packages (from nbformat>=4.4->nbconvert) (3.2.0)\n",
      "Requirement already satisfied: MarkupSafe>=0.23 in /opt/anaconda3/lib/python3.7/site-packages (from jinja2>=2.4->nbconvert) (1.1.1)\n",
      "Requirement already satisfied: webencodings in /opt/anaconda3/lib/python3.7/site-packages (from bleach->nbconvert) (0.5.1)\n",
      "Requirement already satisfied: attrs>=17.4.0 in /opt/anaconda3/lib/python3.7/site-packages (from jsonschema!=2.5.0,>=2.4->nbformat>=4.4->nbconvert) (19.3.0)\n",
      "Requirement already satisfied: pyrsistent>=0.14.0 in /opt/anaconda3/lib/python3.7/site-packages (from jsonschema!=2.5.0,>=2.4->nbformat>=4.4->nbconvert) (0.15.7)\n",
      "Requirement already satisfied: setuptools in /opt/anaconda3/lib/python3.7/site-packages (from jsonschema!=2.5.0,>=2.4->nbformat>=4.4->nbconvert) (45.2.0.post20200210)\n",
      "Requirement already satisfied: importlib-metadata; python_version < \"3.8\" in /opt/anaconda3/lib/python3.7/site-packages (from jsonschema!=2.5.0,>=2.4->nbformat>=4.4->nbconvert) (1.5.0)\n",
      "Requirement already satisfied: zipp>=0.5 in /opt/anaconda3/lib/python3.7/site-packages (from importlib-metadata; python_version < \"3.8\"->jsonschema!=2.5.0,>=2.4->nbformat>=4.4->nbconvert) (2.2.0)\n"
     ]
    }
   ],
   "source": [
    "!pip install nbconvert"
   ]
  },
  {
   "cell_type": "markdown",
   "metadata": {},
   "source": [
    "## Demostración"
   ]
  },
  {
   "cell_type": "markdown",
   "metadata": {},
   "source": [
    "\\require{cancel}{a}\n",
    "Sea $f:{\\mathbb{R}}^{N}\\rightarrow{ \\mathbb{R} }$ una función definida como \\\n",
    "\\begin{equation*}\n",
    "    E(x)= \\frac{1}{2}\\sum_{n=1}^{N}\\left(t_{n}-f(x)\\right)^{2}\n",
    "\\end{equation*}\n",
    "\n",
    "donde $f(x)=\\sum_{r=1}^{R}C_{r}\\mathbb{1}{(x \\in R_{r})}$, demuestre que si $\\frac{\\partial E}{\\partial C_{k}}=0$ entonces $$\\hat{C}_{k} =\\frac{1}{N_{k}}  \\displaystyle\\sum_{\\{n| x_{n} \\in R_{r}\\}}t_{n}$$\n",
    "Demostración\\\n",
    "El problema radica en obtener las derivadas parciales de $E(x)$ e igualarlas a cero.\n",
    "\\begin{equation}\n",
    "\\begin{split}\n",
    "\\require{cancel}\n",
    "\\require{bbm}\n",
    "\\frac{\\partial E \\left( x \\right)}{\\partial C_{1}} & = \\frac{\\partial}{\\partial C_{1}} \\cdot\\frac{1}{2}\\cdot\\sum_{n=1}^{N}\\left(t_{n}-f(x) \\right)^{2}= \\frac{1}{2} \\sum_{n=1}^{N}\\frac{\\partial}{\\partial C_{1}} \\left(t_{n}-f(x) \\right)^{2}\\\\\n",
    " & = \\frac{1}{2}\\sum_{n=1}^{N} \\frac{\\partial}{\\partial C_{1}}\\left(t_{n}^{2}-2t_{n}f(x)+f^{2}(x)\\right)\\\\\n",
    " & = \\frac{1}{2}\\sum_{n=1}^{N}\\left[\\cancelto{0}{\\frac{\\partial}{\\partial C_{1}}t_{n}^{2}}-2t_{n}\\frac{\\partial}{\\partial C_{1}}f(x)+\\frac{\\partial}{\\partial C_{1}}f^{2}(x)\\right]\\\\\n",
    " & = \\frac{1}{2}\\sum_{n=1}^{N}\\left[-2t_{n}\\frac{\\partial}{\\partial C_{1}}f(x)+\\frac{\\partial}{\\partial C_{1}}f^{2}(x)\\right]\\\\\n",
    "\\end{split}\n",
    "\\end{equation}\n",
    "Ahora observemos que \n",
    "\\begin{split}\n",
    "    \\frac{\\partial}{\\partial C_{1}} f(x) & = \\frac{\\partial}{\\partial C_{1}}\\displaystyle\\sum_{r=1}^{R}C_{r}\\mathbb{1}{(x \\in R_{r})}\\\\\n",
    "    & =\\frac{\\partial}{\\partial C_{1}} \\left[C_{1}\\mathbb{1}{(x \\in R_{1})}\\right]+\\cancelto{0}{\\frac{\\partial}{\\partial C_{1}}\\left[ \\displaystyle\\sum_{r\\neq1}^{R}C_{r}\\mathbb{1}{(x \\in R_{r})}\\right]}\\\\\n",
    "    & = \\mathbb{1}{(x \\in R_{1})}\n",
    "\\end{split}\n",
    "\n",
    "Por lo tanto \n",
    "\\begin{equation*}\n",
    "    \\begin{split}\n",
    "        \\frac{1}{2}\\sum_{n=1}^{N}\\left[-2t_{n}\\frac{\\partial}{\\partial C_{1}}f(x)+\\frac{\\partial}{\\partial C_{1}}f^{2}(x)\\right]& = \\frac{1}{2}\\sum_{n=1}^{N}\\left[-2t_{n}\\cdot \\mathbb{1}{(x \\in R_{1})}+2f(x)\\cdot\\frac{\\partial}{\\partial C_{1}}f(x)\\right]\\\\\n",
    "        & =\\frac{1}{2}\\sum_{n=1}^{N}\\left[-2t_{n}\\cdot \\mathbb{1}{(x \\in R_{1})}+2f(x)\\cdot \\mathbb{1}{(x \\in R_{1})}\\right]\\\\\n",
    "        & = \\sum_{n=1}^{N}\\left[-t_{n}\\cdot \\mathbb{1}{(x \\in R_{1})}+f(x)\\cdot \\mathbb{1}{(x \\in R_{1})}\\right]\\\\\n",
    "        & = \\sum_{n=1}^{N}\\left[-t_{n}\\cdot \\mathbb{1}{(x \\in R_{1})}+C_{1}\\right]=\\sum_{n=1}^{N}\\left[-t_{n}\\cdot \\mathbb{1}{(x \\in R_{1})}\\right]+N\\cdot C_{1}\\\\\n",
    "        & = -\\sum_{n=1}^{N}\\left[t_{n}\\cdot \\mathbb{1}{(x \\in R_{1})}\\right]+N_{1}\\cdot C_{1} =0 \\\\\n",
    "        & \\Leftrightarrow{} N_{1}\\cdot C_{1}=\\sum_{n=1}^{N}\\left[t_{n}\\cdot \\mathbb{1}{(x \\in R_{1})}\\right] = \\Leftrightarrow{} C_{1}=\\frac{\\sum_{n=1}^{N}t_{n}}{N_{1}}\n",
    "    \\end{split}\n",
    "\\end{equation*}\n",
    "Sin pérdida de generalidad, el cálculo se puede generalizar para cualquier $k\\in \\mathbb{N}$ por lo que concluimos que\n",
    "\\begin{equation*}\n",
    "\\begin{split}\n",
    "\\frac{\\partial E \\left( x \\right)}{\\partial C_{k}} & = -\\sum_{n=1}^{N}\\left[t_{n}\\cdot \\mathbb{1}{(x \\in R_{k})}\\right]+N_{k}\\cdot C_{k} =0 \\\\\n",
    "& \\Leftrightarrow{} N_{k}\\cdot C_{k}=\\sum_{n=1}^{N}\\left[t_{n}\\cdot \\mathbb{1}{(x \\in R_{k})}\\right]\\\\\n",
    "& \\Leftrightarrow{} C_{k}=\\frac{\\sum_{n=1}^{N}t_{n}}{N_{k}}\n",
    "\\end{split}\n",
    "\\end{equation*}\n",
    "Como la función es cuadrática con término principal positivo, entonces la función $E(x)$ tiene un mínimo en $(C_{k}, E(C_{k}))$"
   ]
  },
  {
   "cell_type": "code",
   "execution_count": null,
   "metadata": {},
   "outputs": [],
   "source": []
  }
 ],
 "metadata": {
  "kernelspec": {
   "display_name": "Python 3",
   "language": "python",
   "name": "python3"
  },
  "language_info": {
   "codemirror_mode": {
    "name": "ipython",
    "version": 3
   },
   "file_extension": ".py",
   "mimetype": "text/x-python",
   "name": "python",
   "nbconvert_exporter": "python",
   "pygments_lexer": "ipython3",
   "version": "3.7.6"
  }
 },
 "nbformat": 4,
 "nbformat_minor": 4
}
